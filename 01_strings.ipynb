{
 "metadata": {
  "name": "",
  "signature": "sha256:cacedc927fcbd6e95724efd50274c8490b977e94d6713d2e026ffb6c78b96495"
 },
 "nbformat": 3,
 "nbformat_minor": 0,
 "worksheets": [
  {
   "cells": [
    {
     "cell_type": "markdown",
     "metadata": {},
     "source": [
      "## Strings\n",
      "\n",
      "The string type is simply a variable that hold text. Let's start with a simple example."
     ]
    },
    {
     "cell_type": "code",
     "collapsed": false,
     "input": [
      "myName = \"Ted Hart\"\n",
      "print myName"
     ],
     "language": "python",
     "metadata": {},
     "outputs": [
      {
       "output_type": "stream",
       "stream": "stdout",
       "text": [
        "Ted Hart\n"
       ]
      },
      {
       "metadata": {},
       "output_type": "pyout",
       "prompt_number": 2,
       "text": [
        "'Ted HartTed HartTed HartTed HartTed HartTed HartTed HartTed Hart'"
       ]
      }
     ],
     "prompt_number": 2
    },
    {
     "cell_type": "markdown",
     "metadata": {},
     "source": [
      "Strings can be used with basic operands too."
     ]
    },
    {
     "cell_type": "code",
     "collapsed": false,
     "input": [
      "string1 = \"Hi my name is\"\n",
      "print string1 + myName"
     ],
     "language": "python",
     "metadata": {},
     "outputs": [
      {
       "output_type": "stream",
       "stream": "stdout",
       "text": [
        "Hi my name isTed Hart\n"
       ]
      }
     ],
     "prompt_number": 4
    },
    {
     "cell_type": "code",
     "collapsed": false,
     "input": [
      "print string1 + \" \" + myName"
     ],
     "language": "python",
     "metadata": {},
     "outputs": [
      {
       "output_type": "stream",
       "stream": "stdout",
       "text": [
        "Hi my name is Ted Hart\n"
       ]
      }
     ],
     "prompt_number": 5
    },
    {
     "cell_type": "markdown",
     "metadata": {},
     "source": [
      "What about other types of operands?  Will they work on strings?  Take a second to try out the other ones."
     ]
    },
    {
     "cell_type": "markdown",
     "metadata": {},
     "source": [
      "**Basic formatting**\n",
      "\n",
      "We can use a simple syntax to format strings for output with % signs."
     ]
    },
    {
     "cell_type": "code",
     "collapsed": false,
     "input": [
      "myString = \"Hi my name is Ted and I used to live in %s\""
     ],
     "language": "python",
     "metadata": {},
     "outputs": [],
     "prompt_number": 14
    },
    {
     "cell_type": "markdown",
     "metadata": {},
     "source": [
      "The %s means that I can substitute a string where the '%s' is in our variable"
     ]
    },
    {
     "cell_type": "code",
     "collapsed": false,
     "input": [
      "print myString % \"Vancouver.\""
     ],
     "language": "python",
     "metadata": {},
     "outputs": [
      {
       "output_type": "stream",
       "stream": "stdout",
       "text": [
        "Hi my name is Ted and I used to live in Vancouver.\n"
       ]
      }
     ],
     "prompt_number": 15
    },
    {
     "cell_type": "markdown",
     "metadata": {},
     "source": [
      "We can also use multiple substitutions in the same string."
     ]
    },
    {
     "cell_type": "code",
     "collapsed": false,
     "input": [
      "myString = \"Hi my name is Ted and I used to live in %s but moved here from %s\"\n",
      "print myString % (\"Vancouver,\",\"Boulder, CO.\")"
     ],
     "language": "python",
     "metadata": {},
     "outputs": [
      {
       "output_type": "stream",
       "stream": "stdout",
       "text": [
        "Hi my name is Ted and I used to live in Vancouver, but moved here from Boulder, CO.\n"
       ]
      }
     ],
     "prompt_number": 17
    },
    {
     "cell_type": "markdown",
     "metadata": {},
     "source": [
      "It's important to note that the letter after the '%' denotes the expected type for the substitution.  There are many types and tricks to this formatting (it's been around for a long time) but the most common types you'll see are %s for string, %d or %i for decimal integer, or %f for floating point."
     ]
    },
    {
     "cell_type": "markdown",
     "metadata": {},
     "source": [
      "Try the formatting with a type other than strings."
     ]
    },
    {
     "cell_type": "markdown",
     "metadata": {},
     "source": [
      "**String indexing**\n",
      "\n",
      "Strings are made up of individual characters and you can access these individual elements.  "
     ]
    },
    {
     "cell_type": "code",
     "collapsed": false,
     "input": [
      "myString = \"I love to ski\"\n",
      "print myString[0]"
     ],
     "language": "python",
     "metadata": {},
     "outputs": [
      {
       "metadata": {},
       "output_type": "pyout",
       "prompt_number": 18,
       "text": [
        "'I'"
       ]
      }
     ],
     "prompt_number": 18
    },
    {
     "cell_type": "markdown",
     "metadata": {},
     "source": [
      "*Note that indexing starts at 0, not 1*\n",
      "What if you want the first 5 characters of your string?"
     ]
    },
    {
     "cell_type": "code",
     "collapsed": false,
     "input": [
      "print myString[0:5]"
     ],
     "language": "python",
     "metadata": {},
     "outputs": [
      {
       "output_type": "stream",
       "stream": "stdout",
       "text": [
        "I lov\n"
       ]
      }
     ],
     "prompt_number": 19
    },
    {
     "cell_type": "markdown",
     "metadata": {},
     "source": [
      "*Note that python requires one extra character for indexing when you use a whole slice*\n",
      "\n",
      "The colon can be left blank and you can get to the beginning or the end of your string."
     ]
    },
    {
     "cell_type": "code",
     "collapsed": false,
     "input": [
      "print myString[:5]\n",
      "print myString[5:]"
     ],
     "language": "python",
     "metadata": {},
     "outputs": [
      {
       "output_type": "stream",
       "stream": "stdout",
       "text": [
        "I lov\n",
        "e to ski\n"
       ]
      }
     ],
     "prompt_number": 20
    },
    {
     "cell_type": "markdown",
     "metadata": {},
     "source": [
      "**Functions vs methods**"
     ]
    },
    {
     "cell_type": "markdown",
     "metadata": {},
     "source": [
      "Python has both functions that take variable(s) as input and return a value.  Methods are very similar, but are called differently and work on all the information stored  by the object that calles them.  "
     ]
    },
    {
     "cell_type": "code",
     "collapsed": false,
     "input": [
      "myString = \"I love skiing\"\n",
      "print len(myString)\n",
      "print type(myString)"
     ],
     "language": "python",
     "metadata": {},
     "outputs": [
      {
       "output_type": "stream",
       "stream": "stdout",
       "text": [
        "13\n",
        "<type 'str'>\n"
       ]
      }
     ],
     "prompt_number": 21
    },
    {
     "cell_type": "markdown",
     "metadata": {},
     "source": [
      "These will work with other types you give them though, try those again but with an integer. \n",
      "\n",
      "Methods work with <object>.<method>.  Sometimes they take input, other times they operate on data in the object."
     ]
    },
    {
     "cell_type": "code",
     "collapsed": false,
     "input": [
      "print myString.upper()"
     ],
     "language": "python",
     "metadata": {},
     "outputs": [
      {
       "output_type": "stream",
       "stream": "stdout",
       "text": [
        "I LOVE SKIING\n"
       ]
      }
     ],
     "prompt_number": 23
    },
    {
     "cell_type": "markdown",
     "metadata": {},
     "source": [
      "Notice that it doesn't actually change what the string is, it just returns a completely capitalized version."
     ]
    },
    {
     "cell_type": "code",
     "collapsed": false,
     "input": [
      "print myString"
     ],
     "language": "python",
     "metadata": {},
     "outputs": [
      {
       "output_type": "stream",
       "stream": "stdout",
       "text": [
        "I love skiing\n"
       ]
      }
     ],
     "prompt_number": 24
    },
    {
     "cell_type": "markdown",
     "metadata": {},
     "source": [
      "There are many useful string operations, we can strip out characters, find characters, replace characters.  Try replacing a word in your string.  *Hint: use autocompletion in the pycharm console to see what method to use and how to use it*"
     ]
    },
    {
     "cell_type": "markdown",
     "metadata": {},
     "source": [
      "We can also see if a word or character is in your string using a method."
     ]
    },
    {
     "cell_type": "code",
     "collapsed": false,
     "input": [
      "myString.find(\"ski\")"
     ],
     "language": "python",
     "metadata": {},
     "outputs": [
      {
       "metadata": {},
       "output_type": "pyout",
       "prompt_number": 33,
       "text": [
        "7"
       ]
      }
     ],
     "prompt_number": 33
    },
    {
     "cell_type": "code",
     "collapsed": false,
     "input": [
      "myString.find(\"west\")"
     ],
     "language": "python",
     "metadata": {},
     "outputs": [
      {
       "metadata": {},
       "output_type": "pyout",
       "prompt_number": 34,
       "text": [
        "-1"
       ]
      }
     ],
     "prompt_number": 34
    },
    {
     "cell_type": "markdown",
     "metadata": {},
     "source": [
      "However, this can be done with other techniques too."
     ]
    },
    {
     "cell_type": "code",
     "collapsed": false,
     "input": [
      "\"ski\" in myString"
     ],
     "language": "python",
     "metadata": {},
     "outputs": [
      {
       "metadata": {},
       "output_type": "pyout",
       "prompt_number": 38,
       "text": [
        "True"
       ]
      }
     ],
     "prompt_number": 38
    },
    {
     "cell_type": "code",
     "collapsed": false,
     "input": [],
     "language": "python",
     "metadata": {},
     "outputs": []
    }
   ],
   "metadata": {}
  }
 ]
}