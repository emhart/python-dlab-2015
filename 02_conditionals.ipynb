{
 "metadata": {
  "name": "",
  "signature": "sha256:bd698fef4e99ed224ceacc222f64f25f25ee93f23f8d160130cfbacaabda34f0"
 },
 "nbformat": 3,
 "nbformat_minor": 0,
 "worksheets": [
  {
   "cells": [
    {
     "cell_type": "markdown",
     "metadata": {},
     "source": [
      "## Conditionals\n",
      "\n",
      "Often when we program we want to perform different actions based on different actions. We use \"if\" statements to do this. \n",
      "Each if statement evaluates a condition for being TRUE or FALSE, and then performs a behaviour based on that condition.  Before we begin with our `if` statements, let's start with all the conditionals python can have:\n",
      "\n",
      "\n",
      " - `<`  *less than*\n",
      " - `>`  *greater than*  \n",
      " - `<=`  *less than or equal to*    \n",
      " - `>=`  *greater than or equal to*\n",
      " - `==`  *equals*\n",
      " - `!=`  *not equals*\n",
      " \n",
      "Let's start by trying them with numbers."
     ]
    },
    {
     "cell_type": "code",
     "collapsed": false,
     "input": [
      "print \"1 < 2 is \" + str(1 < 2)\n",
      "print \"1 > 2 is \" + str(1 > 2)\n",
      "print \"1 <= 2 is \" + str(1 <= 2)\n",
      "print \"1 >= 2 is \" + str(1 >= 2)\n",
      "print '1 == 2 is ' + str(1 == 2)\n",
      "print \"1 != 2 is \" + str(1 != 2)"
     ],
     "language": "python",
     "metadata": {},
     "outputs": [
      {
       "output_type": "stream",
       "stream": "stdout",
       "text": [
        "1 < 2 is True\n",
        "1 > 2 is False\n",
        "1 <= 2 is True\n",
        "1 >= 2 is False\n",
        "1 == 2 is False\n",
        "1 != 2 is True\n"
       ]
      }
     ],
     "prompt_number": 7
    },
    {
     "cell_type": "markdown",
     "metadata": {},
     "source": [
      "**if statements** will perform an entire block of code that proceeds it based on indents if the condition is true.  So here's a simple example."
     ]
    },
    {
     "cell_type": "code",
     "collapsed": false,
     "input": [
      "x = 5\n",
      "if x == 5:\n",
      "    print \"oh hey, X is 5!\""
     ],
     "language": "python",
     "metadata": {},
     "outputs": [
      {
       "output_type": "stream",
       "stream": "stdout",
       "text": [
        "oh hey, X is 5!\n"
       ]
      }
     ],
     "prompt_number": 8
    },
    {
     "cell_type": "markdown",
     "metadata": {},
     "source": [
      "*exercise* now stop and write your own if statement."
     ]
    },
    {
     "cell_type": "markdown",
     "metadata": {},
     "source": [
      "Great, what if you want do something if x isn't 5?"
     ]
    },
    {
     "cell_type": "code",
     "collapsed": false,
     "input": [
      "x = 2\n",
      "if x == 5:\n",
      "    print \"oh hey, x is 5!\"\n",
      "else:\n",
      "    print \"Sadly x is something other than 5\""
     ],
     "language": "python",
     "metadata": {},
     "outputs": [
      {
       "output_type": "stream",
       "stream": "stdout",
       "text": [
        "Sadly x is something other than 5\n"
       ]
      }
     ],
     "prompt_number": 9
    },
    {
     "cell_type": "markdown",
     "metadata": {},
     "source": [
      "Great, but what if we have more than a binary case? Well, we can just string together some `if` statements."
     ]
    },
    {
     "cell_type": "code",
     "collapsed": false,
     "input": [
      "x = 10\n",
      "if x < 10:\n",
      "    print \"x is kind of small\"\n",
      "if x > 10: \n",
      "    print \"x is kind of big\"\n",
      "if x == 10:\n",
      "    print \"x is just right\"\n",
      "    "
     ],
     "language": "python",
     "metadata": {},
     "outputs": [
      {
       "output_type": "stream",
       "stream": "stdout",
       "text": [
        "x is kind of big\n"
       ]
      }
     ],
     "prompt_number": 11
    },
    {
     "cell_type": "markdown",
     "metadata": {},
     "source": [
      "There's another way we could have done this, with `elif` statements. "
     ]
    },
    {
     "cell_type": "code",
     "collapsed": false,
     "input": [
      "x = 10\n",
      "if x < 10:\n",
      "    print \"x is kind of small\"\n",
      "elif x > 10: \n",
      "    print \"x is kind of big\"\n",
      "elif x == 10:\n",
      "    print \"x is just right\"\n",
      "    "
     ],
     "language": "python",
     "metadata": {},
     "outputs": [
      {
       "output_type": "stream",
       "stream": "stdout",
       "text": [
        "x is just right\n"
       ]
      }
     ],
     "prompt_number": 12
    },
    {
     "cell_type": "markdown",
     "metadata": {},
     "source": [
      "The result is the same, so when would we want to use one over the other? "
     ]
    },
    {
     "cell_type": "code",
     "collapsed": false,
     "input": [
      "x = 3\n",
      "\n",
      "if x < 10:\n",
      "    print \"x is kind of small\"\n",
      "elif x > 0: \n",
      "    print \"x is kind of big\"\n",
      "elif x == 10:\n",
      "    print \"x is just right\"\n",
      "\n",
      "if x < 10:\n",
      "    print \"x is kind of small\"\n",
      "if x > 0: \n",
      "    print \"x is kind of big\"\n",
      "if x == 10:\n",
      "    print \"x is just right\"\n",
      "\n",
      "\n",
      "\n"
     ],
     "language": "python",
     "metadata": {},
     "outputs": [
      {
       "output_type": "stream",
       "stream": "stdout",
       "text": [
        "x is kind of small\n",
        "x is kind of small\n",
        "x is kind of big\n"
       ]
      }
     ],
     "prompt_number": 14
    },
    {
     "cell_type": "markdown",
     "metadata": {},
     "source": [
      "Conditionals can be chained together with keywords like `and`, `or` or `not`.  An entire long chain of conditionals can be evaluated to a single TRUE or FALSE."
     ]
    },
    {
     "cell_type": "code",
     "collapsed": false,
     "input": [
      "x = 10\n",
      "x > 1 and x < 100"
     ],
     "language": "python",
     "metadata": {},
     "outputs": [
      {
       "metadata": {},
       "output_type": "pyout",
       "prompt_number": 15,
       "text": [
        "True"
       ]
      }
     ],
     "prompt_number": 15
    },
    {
     "cell_type": "markdown",
     "metadata": {},
     "source": [
      "*Exercise:* \n",
      "\n",
      "Have students write their own conditionals and play around with `or` and `and` statements.\n",
      "\n",
      "**Conditionals with strings**\n",
      "\n",
      "Strings can also be used in conditionals, consider the case where we have a single character and we want to match it.  There's three ways we can do this."
     ]
    },
    {
     "cell_type": "code",
     "collapsed": false,
     "input": [
      "print \"x\" == \"x\"\n",
      "print \"x\" in \"x\"\n",
      "print \"x\".find(\"x\") > -1 "
     ],
     "language": "python",
     "metadata": {},
     "outputs": [
      {
       "output_type": "stream",
       "stream": "stdout",
       "text": [
        "True\n",
        "True\n",
        "True\n"
       ]
      }
     ],
     "prompt_number": 19
    },
    {
     "cell_type": "markdown",
     "metadata": {},
     "source": [
      "What about other conditionals with strings?"
     ]
    },
    {
     "cell_type": "code",
     "collapsed": false,
     "input": [
      "\"Patriots\" > \"Ravens\""
     ],
     "language": "python",
     "metadata": {},
     "outputs": [
      {
       "metadata": {},
       "output_type": "pyout",
       "prompt_number": 22,
       "text": [
        "False"
       ]
      }
     ],
     "prompt_number": 22
    },
    {
     "cell_type": "markdown",
     "metadata": {},
     "source": [
      "**Challenge 1**\n",
      "\n",
      "Complete a function that print \"I found your phrase\" if a sub string is found sentence. Here's a start."
     ]
    },
    {
     "cell_type": "markdown",
     "metadata": {},
     "source": [
      "`def findString(subString, sentence):\n",
      "    if ...:\n",
      "        print \"I found your phrase\"`"
     ]
    },
    {
     "cell_type": "markdown",
     "metadata": {},
     "source": [
      "**Challenge 2**\n",
      "\n",
      "Using the `replace` method and `len` function, write a short function that will count the amount of white space in a string.\n",
      "\n",
      "`def countWhiteSpace(string):`\n",
      "    \n",
      "*Advanced challenge*\n",
      "\n",
      "Use the function `type()` and an `if` statement to add some error handling, e.g. what if a string isn't input?\n",
      "    "
     ]
    },
    {
     "cell_type": "code",
     "collapsed": false,
     "input": [],
     "language": "python",
     "metadata": {},
     "outputs": [],
     "prompt_number": 23
    },
    {
     "cell_type": "code",
     "collapsed": false,
     "input": [],
     "language": "python",
     "metadata": {},
     "outputs": []
    }
   ],
   "metadata": {}
  }
 ]
}